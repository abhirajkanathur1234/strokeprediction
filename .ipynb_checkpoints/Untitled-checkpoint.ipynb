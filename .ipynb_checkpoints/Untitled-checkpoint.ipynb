{
 "cells": [
  {
   "cell_type": "code",
   "execution_count": 6,
   "id": "c6bfd21e-3bc2-4d19-be0e-a5a262d24522",
   "metadata": {},
   "outputs": [
    {
     "name": "stdout",
     "output_type": "stream",
     "text": [
      "epoch 0 : cost 0.0822736174295824\n",
      "epoch 100 : cost 9.397667688318132e-06\n",
      "epoch 200 : cost 2.561125332492627e-06\n",
      "epoch 300 : cost 6.979777607285592e-07\n",
      "epoch 400 : cost 1.9021831860042373e-07\n",
      "epoch 500 : cost 5.183977308016633e-08\n",
      "epoch 600 : cost 1.412777745475239e-08\n",
      "epoch 700 : cost 3.85021160301261e-09\n",
      "epoch 800 : cost 1.0492895599086016e-09\n",
      "epoch 900 : cost 2.8596053777257703e-10\n"
     ]
    },
    {
     "data": {
      "image/png": "[encoded data removed]",
      "text/plain": [
       "<Figure size 640x480 with 1 Axes>"
      ]
     },
     "metadata": {},
     "output_type": "display_data"
    },
    {
     "name": "stdout",
     "output_type": "stream",
     "text": [
      "Slope 0.19995689526883137\n",
      "Intercept 0.3000234023494591\n",
      "[0.42028012 0.47634555 0.43424284 0.32351358 0.45749261 0.40632742\n",
      " 0.34312866 0.32014976 0.49026179 0.33639825 0.44858076 0.42739479\n",
      " 0.41743208 0.45920286 0.45758294 0.30755072 0.48143061 0.48316798\n",
      " 0.39953164 0.36228416 0.46730699 0.40203895 0.43561767 0.3369826\n",
      " 0.45783875 0.44981077 0.48404399 0.33585535 0.47349751 0.45086285\n",
      " 0.41599254 0.42387783 0.39191135 0.33018455 0.35422172 0.32334477\n",
      " 0.42761125 0.32477172 0.45742962 0.34670518 0.33725888 0.41680247\n",
      " 0.34294103 0.3185978  0.31637553 0.3687305  0.48728868 0.32591227\n",
      " 0.48275821 0.44890214 0.36358196 0.42628877 0.49251508 0.37219481\n",
      " 0.47575882 0.31207698 0.39691741 0.42653786 0.37499742 0.35947781\n",
      " 0.43548895 0.31116762 0.33664044 0.49934623 0.37520706 0.31036159\n",
      " 0.40709523 0.35658049 0.39547396 0.39181784 0.45491496 0.36881675\n",
      " 0.41533109 0.46685822 0.41616863 0.38803128 0.39050335 0.47543611\n",
      " 0.38071021 0.44412219 0.38025207 0.36506816 0.34774006 0.49629915\n",
      " 0.48757049 0.30523782 0.41143321 0.42871727 0.43391808 0.45823677\n",
      " 0.30337164 0.47911407 0.3369716  0.47276012 0.36990935 0.38848845\n",
      " 0.34148625 0.32618194 0.45085801 0.36304781]\n"
     ]
    }
   ],
   "source": [
    "import numpy as np\n",
    "import matplotlib.pyplot as plt\n",
    "\n",
    "def grad(x,y,learning_rate,epoch):\n",
    "    m=0\n",
    "    b=0\n",
    "    n=len(x)\n",
    "    costs=[]\n",
    "    for epoch in range(epoch):\n",
    "        y_pred = m*x+b\n",
    "        error = y_pred-y\n",
    "        m -= learning_rate*(1/n)*np.sum(error*x)\n",
    "        b -= learning_rate*(1/n)*np.sum(error)\n",
    "        if epoch%100==0:\n",
    "            cost = (1/(2*n)*np.sum(error**2))\n",
    "            costs.append(cost)\n",
    "            print(f'epoch {epoch} : cost {cost}')\n",
    "    plt.plot(range(1,epoch,100),costs,marker='o')\n",
    "    plt.xlabel('epoch')\n",
    "    plt.ylabel('costs')\n",
    "    plt.title(\"Epoch VS Costs\")\n",
    "    plt.show()\n",
    "    return m,b\n",
    "\n",
    "x = np.random.rand(100)\n",
    "y = (2*x+3)*0.1\n",
    "epoch = 1000\n",
    "learning_rate=0.1\n",
    "m,b = grad(x,y,learning_rate,epoch)\n",
    "print(\"Slope\",m)\n",
    "print(\"Intercept\",b)\n",
    "print(y)"
   ]
  },
  {
   "cell_type": "code",
   "execution_count": 19,
   "id": "cdf4d4a7-2ad8-4ecb-8107-feb539262c03",
   "metadata": {},
   "outputs": [
    {
     "name": "stdout",
     "output_type": "stream",
     "text": [
      "Predictions :  [1, 1, 1, 1]\n",
      "Optimal weight :  [0.01424252 0.01529241]\n",
      "Optimal bias :  -0.00021613912141545203\n"
     ]
    }
   ],
   "source": [
    "import numpy as np\n",
    "x = np.array([[0.5,1.5],[1.5,2.0],[3.0,4.0],[5.0,6.0]])\n",
    "y = np.array([0,0,1,1])\n",
    "\n",
    "m = np.zeros(x.shape[1])\n",
    "b=0\n",
    "epochs = 50\n",
    "LR = 0.0001\n",
    "def sigmoid(z):\n",
    "    return 1/(1+np.exp(-z))\n",
    "\n",
    "for epoch in range(epochs):\n",
    "    for i in range(len(x)):\n",
    "        z = np.dot(m,x[i])+b\n",
    "        y_pred = sigmoid(z)\n",
    "        error = y[i] - y_pred\n",
    "        m += LR * error * x[i]\n",
    "        b += LR * error\n",
    "\n",
    "predictions = []\n",
    "for i in range(len(x)):\n",
    "    z = np.dot(m,x[i])+b\n",
    "    y_pred = sigmoid(z)\n",
    "    predictions.append(1 if y_pred >= 0.5 else 0)\n",
    "\n",
    "print(\"Predictions : \",predictions)\n",
    "print(\"Optimal weight : \",m)\n",
    "print(\"Optimal bias : \",b)\n"
   ]
  },
  {
   "cell_type": "code",
   "execution_count": 20,
   "id": "560ceb15-84b2-485b-93a9-3a50a39e534e",
   "metadata": {},
   "outputs": [
    {
     "name": "stdout",
     "output_type": "stream",
     "text": [
      "Predictions: [1, 1, 1, 1]\n",
      "Optimum weights (m): [0. 0.]\n",
      "Optimum bias (c): 0\n"
     ]
    }
   ],
   "source": [
    "import numpy as np\n",
    "# Example data (replace with actual data)\n",
    "X = np.array([[0.5, 1.5], [1.5, 2.0], [3.0, 4.0], [5.0, 6.0]])\n",
    "y = np.array([0, 0, 1, 1]) # example labels\n",
    "# example features\n",
    "# Initialize the weights and bias\n",
    "m = np.zeros(X.shape[1]) # weights\n",
    "c = 0 # bias\n",
    "LR = 0.0001 # learning rate\n",
    "epochs = 50 # number of iterations\n",
    "# Define sigmoid function\n",
    "def sigmoid(z):\n",
    "    return 1 / (1 + np.exp(-z))\n",
    "    # Performing Stochastic Gradient Descent Optimization\n",
    "    for epoch in range(epochs):\n",
    "        for i in range(len(X)):\n",
    "            # Compute the linear combination of weights and input features, plus bias\n",
    "            z = np.dot(m, X[i]) + c\n",
    "            # Compute the predicted probability\n",
    "            y_pred = sigmoid(z)\n",
    "            # Compute the error\n",
    "            error = y[i] - y_pred\n",
    "            # Update weights and bias\n",
    "            m += LR * error * X[i]\n",
    "            c += LR * error\n",
    "# Making predictions\n",
    "predictions = []\n",
    "for i in range(len(X)):\n",
    "    z = np.dot(m, X[i]) + c\n",
    "    y_pred = sigmoid(z)\n",
    "    predictions.append(1 if y_pred >= 0.5 else 0)\n",
    "# Print results\n",
    "print(\"Predictions:\", predictions)\n",
    "print(\"Optimum weights (m):\", m)\n",
    "print(\"Optimum bias (c):\", c)"
   ]
  },
  {
   "cell_type": "code",
   "execution_count": null,
   "id": "df0022de-561c-427c-9a85-23fa3c7516dc",
   "metadata": {},
   "outputs": [],
   "source": [
    "import numpy as np\n",
    "import tensorflow as tf\n",
    "from tensorflow.keras.models import Sequential\n",
    "from tensorflow.keras.layers import Dense,Flatten\n",
    "from tensorflow.keras.utils import to_categorical\n",
    "\n",
    "file_path = '/home/abhirajk/dataset/mnist_25_percent.npz'\n",
    "df = np.read_csv(file_path)\n",
    "\n"
   ]
  }
 ],
 "metadata": {
  "kernelspec": {
   "display_name": "Python 3 (ipykernel)",
   "language": "python",
   "name": "python3"
  },
  "language_info": {
   "codemirror_mode": {
    "name": "ipython",
    "version": 3
   },
   "file_extension": ".py",
   "mimetype": "text/x-python",
   "name": "python",
   "nbconvert_exporter": "python",
   "pygments_lexer": "ipython3",
   "version": "3.10.12"
  }
 },
 "nbformat": 4,
 "nbformat_minor": 5
}
